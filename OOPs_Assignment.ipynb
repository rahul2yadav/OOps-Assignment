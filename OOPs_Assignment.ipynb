{
  "nbformat": 4,
  "nbformat_minor": 0,
  "metadata": {
    "colab": {
      "provenance": []
    },
    "kernelspec": {
      "name": "python3",
      "display_name": "Python 3"
    },
    "language_info": {
      "name": "python"
    }
  },
  "cells": [
    {
      "cell_type": "markdown",
      "source": [
        "# OOPs Assignment"
      ],
      "metadata": {
        "id": "Z8g40wF9HayD"
      }
    },
    {
      "cell_type": "markdown",
      "source": [
        "1. What is Object-Oriented Programming (OOP)?\n",
        "   \n",
        "\n",
        "   --> OOP is a programming paradigm based on the concept of objects, which can contain data and methods. It promotes modularity, reusability, and abstraction using features like classes, inheritance, polymorphism, encapsulation, and abstraction.\n",
        "\n"
      ],
      "metadata": {
        "id": "5gKgEf-SRZZg"
      }
    },
    {
      "cell_type": "markdown",
      "source": [
        "2. What is a class in OOP?\n",
        "\n",
        "    --> A class is a blueprint or template for creating objects. It defines attributes (variables) and behaviors (methods) that the objects created from it will have.\n"
      ],
      "metadata": {
        "id": "jSkvgPjdRv3C"
      }
    },
    {
      "cell_type": "code",
      "execution_count": null,
      "metadata": {
        "id": "gE2mJGAhRUjV"
      },
      "outputs": [],
      "source": [
        "#EXAMPLE\n",
        "class Car:\n",
        "    def __init__(self, brand):\n",
        "        self.brand = brand\n"
      ]
    },
    {
      "cell_type": "markdown",
      "source": [
        "3. What is an object in OOP?\n",
        "  \n",
        "   --> An object is an instance of a class. It contains actual data and can use the methods defined in the class.\n"
      ],
      "metadata": {
        "id": "h6YVrT-KSCTx"
      }
    },
    {
      "cell_type": "code",
      "source": [
        "#EXAMPLE\n",
        "car1 = Car(\"Toyota\")\n",
        "car2 = Car(\"Honda\")"
      ],
      "metadata": {
        "id": "XArsCiOVSBGJ"
      },
      "execution_count": null,
      "outputs": []
    },
    {
      "cell_type": "markdown",
      "source": [
        "4. What is the difference between abstraction and encapsulation\n",
        "\n",
        "\n",
        "| Aspect     | Abstractio    | Encapsulation   |\n",
        "| ---------- | ------------------------------ | ------------------------------------ |\n",
        "| Definition | Hiding implementation details  | Restricting access to internal data  |\n",
        "| Focus      | What to do                     | How to do it                         |\n",
        "| Example    | Abstract classes or interfaces | Private variables and getter/setters |\n",
        "\n"
      ],
      "metadata": {
        "id": "ZQnz0tDpSmio"
      }
    },
    {
      "cell_type": "markdown",
      "source": [
        "5. What are dunder methods in Python?\n",
        "\n",
        "\n",
        "  --> Dunder methods are special methods surrounded by double underscores\n",
        "  (e.g., __int__, __str__, __len__). They enable operator overloading and custom behavior.\n",
        "\n"
      ],
      "metadata": {
        "id": "Ce1cUkI6TuCM"
      }
    },
    {
      "cell_type": "markdown",
      "source": [
        "6. Explain the concept of inheritance in OOP?\n",
        "\n",
        "   --> Inheritance allows one class (child) to inherit attributes and methods from another class (parent), enabling code reuse.\n"
      ],
      "metadata": {
        "id": "JtqdYdMgUHae"
      }
    },
    {
      "cell_type": "code",
      "source": [
        "#example\n",
        "class Animal:\n",
        "    def speak(self):\n",
        "        return \"Some sound\"\n",
        "\n",
        "class Dog(Animal):\n",
        "    def speak(self):\n",
        "        return \"Bark\"\n"
      ],
      "metadata": {
        "id": "0_69JQfaSjR2"
      },
      "execution_count": null,
      "outputs": []
    },
    {
      "cell_type": "markdown",
      "source": [
        "7. What is polymorphism in OOP?\n",
        "\n",
        "\n",
        "   ---> Polymorphism means having the same method name behave differently depending on the class calling it.\n"
      ],
      "metadata": {
        "id": "IMUPJZsEUkPR"
      }
    },
    {
      "cell_type": "code",
      "source": [
        "#example\n",
        "def make_sound(animal):\n",
        "    print(animal.speak())\n",
        "\n",
        "make_sound(Dog())\n",
        "\n"
      ],
      "metadata": {
        "colab": {
          "base_uri": "https://localhost:8080/"
        },
        "id": "vIwCuPpfUbxA",
        "outputId": "667d8a7d-fa2e-4867-abcd-ed9f84f62362"
      },
      "execution_count": null,
      "outputs": [
        {
          "output_type": "stream",
          "name": "stdout",
          "text": [
            "Bark\n"
          ]
        }
      ]
    },
    {
      "cell_type": "markdown",
      "source": [
        "8. How is encapsulation achieved in Python?\n",
        "\n",
        "\n",
        "   Encapsulation is implemented by:\n",
        "\n",
        "- Using private variables (_var or __var)\n",
        "\n",
        "- Creating getters and setters to control access\n",
        "\n"
      ],
      "metadata": {
        "id": "3oaWWHVtU71w"
      }
    },
    {
      "cell_type": "markdown",
      "source": [
        "9. What is a constructor in Python?\n",
        "\n",
        "\n",
        "  The constructor is the __init__() method, automatically called when an object is created to initialize it.\n"
      ],
      "metadata": {
        "id": "ZTWnhNSDVP2J"
      }
    },
    {
      "cell_type": "code",
      "source": [
        "class Student:\n",
        "    def __init__(self, name):\n",
        "        self.name = name\n"
      ],
      "metadata": {
        "id": "JL4W_Il0U48p"
      },
      "execution_count": null,
      "outputs": []
    },
    {
      "cell_type": "markdown",
      "source": [
        "10. What are class and static methods in Python?\n",
        "\n",
        "\n",
        "  - @classmethod takes cls as the first argument and can access/modify class state.\n",
        "\n",
        "  - @staticmethod takes no special arguments and behaves like a regular function inside a class.\n"
      ],
      "metadata": {
        "id": "Eg_ncy7fVmfz"
      }
    },
    {
      "cell_type": "code",
      "source": [
        "#example\n",
        "class Demo:\n",
        "    @classmethod\n",
        "    def show_cls(cls): pass\n",
        "\n",
        "    @staticmethod\n",
        "    def show_static(): pass"
      ],
      "metadata": {
        "id": "8onmstbQV5Y4"
      },
      "execution_count": null,
      "outputs": []
    },
    {
      "cell_type": "markdown",
      "source": [],
      "metadata": {
        "id": "MhXQ3WCwVmYi"
      }
    },
    {
      "cell_type": "markdown",
      "source": [
        "11. What is method overloading in Python?\n",
        "\n",
        "\n",
        "   - Python does not support method overloading natively. It can be simulated using default or variable-length arguments."
      ],
      "metadata": {
        "id": "ZvgOFmyZXQNR"
      }
    },
    {
      "cell_type": "code",
      "source": [
        "# example\n",
        "def greet(name=None):\n",
        "    if name:\n",
        "        print(f\"Hello, {name}\")\n",
        "    else:\n",
        "        print(\"Hello\")\n"
      ],
      "metadata": {
        "id": "byGg_WtqVd7T"
      },
      "execution_count": null,
      "outputs": []
    },
    {
      "cell_type": "markdown",
      "source": [
        "12. What is method overriding in OOP?\n",
        "\n",
        "\n",
        "   - When a subclass provides a specific implementation of a method already defined in its superclass."
      ],
      "metadata": {
        "id": "5G8x5-alYDQz"
      }
    },
    {
      "cell_type": "code",
      "source": [
        "#example\n",
        "class A:\n",
        "    def hello(self): print(\"Hello from A\")\n",
        "\n",
        "class B(A):\n",
        "    def hello(self): print(\"Hello from B\")\n"
      ],
      "metadata": {
        "id": "f3VE4YHXXYRQ"
      },
      "execution_count": null,
      "outputs": []
    },
    {
      "cell_type": "markdown",
      "source": [
        "13. What is a property decorator in Python?\n",
        "\n",
        "\n",
        "   - @property is used to make a method behave like an attribute, useful for controlled access."
      ],
      "metadata": {
        "id": "B0lJVOj2Yh20"
      }
    },
    {
      "cell_type": "code",
      "source": [
        "#example\n",
        "class Circle:\n",
        "    def __init__(self, radius):\n",
        "        self._radius = radius\n",
        "\n",
        "    @property\n",
        "    def area(self):\n",
        "        return 3.14 * self._radius ** 2\n"
      ],
      "metadata": {
        "id": "F7e3spt2YWSs"
      },
      "execution_count": null,
      "outputs": []
    },
    {
      "cell_type": "markdown",
      "source": [
        "14. Why is polymorphism important in OOP?\n",
        "\n",
        "\n",
        "   - It allows functions and methods to work with objects of different types, making the code more flexible, reusable, and maintainable\n",
        "\n"
      ],
      "metadata": {
        "id": "oCYmFAaPYub2"
      }
    },
    {
      "cell_type": "markdown",
      "source": [
        "15. What is an abstract class in Python?\n",
        "\n",
        "\n",
        "\n",
        "   - An abstract class contains one or more abstract methods (defined with @abstractmethod) and cannot be instantiated. Use the abc module"
      ],
      "metadata": {
        "id": "HLvitaxLY5QC"
      }
    },
    {
      "cell_type": "code",
      "source": [
        "#example\n",
        "from abc import ABC, abstractmethod\n",
        "\n",
        "class Shape(ABC):\n",
        "    @abstractmethod\n",
        "    def area(self): pass\n"
      ],
      "metadata": {
        "id": "LvllzVjlYqMZ"
      },
      "execution_count": null,
      "outputs": []
    },
    {
      "cell_type": "markdown",
      "source": [
        "16. What are the advantages of OOP?\n",
        "\n",
        "\n",
        "   - Modularity\n",
        "\n",
        "   - Code Reusability\n",
        "\n",
        "   - Encapsulation\n",
        "\n",
        "   - Scalability\n",
        "\n",
        "   - Maintainability\n",
        "\n",
        "   - Models real-world systems easily\n",
        "\n"
      ],
      "metadata": {
        "id": "B48LXM81CFCM"
      }
    },
    {
      "cell_type": "markdown",
      "source": [
        "17. What is the difference between a class variable and an instance variable?\n",
        "\n",
        "\n",
        "| Feature       | Class Variable             | Instance Variable           |\n",
        "| ------------- | -------------------------- | --------------------------- |\n",
        "| Scope         | Shared among all instances | Unique to each object       |\n",
        "| Defined using | Directly in class          | Inside methods with `self.` |\n"
      ],
      "metadata": {
        "id": "iYxzEKohCWne"
      }
    },
    {
      "cell_type": "markdown",
      "source": [
        "18. What is multiple inheritance in Python?\n",
        "\n",
        "\n",
        "   - A class can inherit from more than one parent class"
      ],
      "metadata": {
        "id": "OeeHvLTcC88c"
      }
    },
    {
      "cell_type": "code",
      "source": [
        "#example\n",
        "class A: pass\n",
        "class B: pass\n",
        "class C(A, B): pass\n"
      ],
      "metadata": {
        "id": "aTerHVpoZCQ1"
      },
      "execution_count": 1,
      "outputs": []
    },
    {
      "cell_type": "markdown",
      "source": [
        "19. Explain the purpose of __str__ and __repr__ methods in Python\n",
        "\n",
        "\n",
        "   - __str__(): Human-readable representation (e.g., for print)\n",
        "\n",
        "   - __repr__(): Developer/debugging representation (e.g., in shell"
      ],
      "metadata": {
        "id": "FxGmxDnNDLqg"
      }
    },
    {
      "cell_type": "markdown",
      "source": [
        "20. What is the significance of the super() function in Python?\n",
        "\n",
        "\n",
        "   - super() is used to call a method from the parent class, commonly in constructors or overridden methods.\n",
        "\n",
        "\n"
      ],
      "metadata": {
        "id": "hU-gyUQADdSl"
      }
    },
    {
      "cell_type": "code",
      "source": [
        "class Parent:\n",
        "    def __init__(self):\n",
        "        print(\"Parent constructor called\")\n",
        "\n",
        "class Child(Parent):\n",
        "    def __init__(self):\n",
        "        super().__init__()  # Call Parent's constructor\n",
        "        print(\"Child constructor called\")\n",
        "\n",
        "# Example usage\n",
        "child_instance = Child()"
      ],
      "metadata": {
        "colab": {
          "base_uri": "https://localhost:8080/"
        },
        "id": "hilVFyTtDKp8",
        "outputId": "d2b623d0-526f-4635-b39c-c4c9cd6af4d4"
      },
      "execution_count": 3,
      "outputs": [
        {
          "output_type": "stream",
          "name": "stdout",
          "text": [
            "Parent constructor called\n",
            "Child constructor called\n"
          ]
        }
      ]
    },
    {
      "cell_type": "markdown",
      "source": [
        "21. What is the significance of the __del__ method in Python?\n",
        "\n",
        "   \n",
        "   - The __del__() method is called when an object is about to be destroyed, used for cleanup (like closing files). Not commonly used"
      ],
      "metadata": {
        "id": "su3IEdWfDzET"
      }
    },
    {
      "cell_type": "markdown",
      "source": [
        "22. What is the difference between @staticmethod and @classmethod in Python?\n",
        "\n",
        "\n",
        " | Feature         | `@staticmethod`        | `@classmethod`  |\n",
        "| --------------- | ---------------------- | --------------- |\n",
        "| First argument  | None                   | `cls`           |\n",
        "| Access to class | ❌                      | ✅               |\n",
        "| Use case        | Utility/helper methods | Factory methods |\n"
      ],
      "metadata": {
        "id": "kC_b0DPKD6vK"
      }
    },
    {
      "cell_type": "markdown",
      "source": [
        "23.  How does polymorphism work in Python with inheritance?\n",
        "\n",
        "\n",
        "  - In Python, polymorphism with inheritance allows objects of different subclasses to be treated as instances of the parent class, but with each subclass having its own implementation of methods"
      ],
      "metadata": {
        "id": "_jrzLAueEMbA"
      }
    },
    {
      "cell_type": "code",
      "source": [
        "#Example\n",
        "class Animal:\n",
        "    def speak(self):\n",
        "        return \"Some sound\"\n",
        "\n",
        "class Dog(Animal):\n",
        "    def speak(self):\n",
        "        return \"Bark\"\n",
        "\n",
        "class Cat(Animal):\n",
        "    def speak(self):\n",
        "        return \"Meow\"\n",
        "\n",
        "# Polymorphic behavior\n",
        "animals = [Dog(), Cat()]\n",
        "\n",
        "for animal in animals:\n",
        "    print(animal.speak())\n"
      ],
      "metadata": {
        "colab": {
          "base_uri": "https://localhost:8080/"
        },
        "id": "0LSTkQM0Dkxg",
        "outputId": "20e0d278-f9bc-4b4a-e476-dc06e533feda"
      },
      "execution_count": 4,
      "outputs": [
        {
          "output_type": "stream",
          "name": "stdout",
          "text": [
            "Bark\n",
            "Meow\n"
          ]
        }
      ]
    },
    {
      "cell_type": "markdown",
      "source": [
        "24.  What is method chaining in Python OOP?\n",
        "\n",
        "\n",
        "   - Method chaining is a technique where multiple methods are called on the same object in a single line. This is achieved by returning self from each method"
      ],
      "metadata": {
        "id": "3f4Wo_eREWQP"
      }
    },
    {
      "cell_type": "code",
      "source": [
        "#Example\n",
        "class Person:\n",
        "    def __init__(self, name):\n",
        "        self.name = name\n",
        "        self.age = 0\n",
        "\n",
        "    def set_age(self, age):\n",
        "        self.age = age\n",
        "        return self\n",
        "\n",
        "    def greet(self):\n",
        "        print(f\"Hello, my name is {self.name} and I am {self.age} years old.\")\n",
        "        return self\n",
        "\n",
        "# Method chaining\n",
        "p = Person(\"Rahul\").set_age(25).greet()\n"
      ],
      "metadata": {
        "colab": {
          "base_uri": "https://localhost:8080/"
        },
        "id": "FoNzN5cZEVG8",
        "outputId": "169a65d6-91e3-4360-cd09-8cc484c7084d"
      },
      "execution_count": 5,
      "outputs": [
        {
          "output_type": "stream",
          "name": "stdout",
          "text": [
            "Hello, my name is Rahul and I am 25 years old.\n"
          ]
        }
      ]
    },
    {
      "cell_type": "markdown",
      "source": [
        "25. What is the purpose of the __call__ method in Python?\n",
        "\n",
        "\n",
        "   - The __call__() method allows an instance of a class to be called like a function."
      ],
      "metadata": {
        "id": "oijWN0NEEsfG"
      }
    },
    {
      "cell_type": "code",
      "source": [
        "#Example\n",
        "class Adder:\n",
        "    def __init__(self, value):\n",
        "        self.value = value\n",
        "\n",
        "    def __call__(self, x):\n",
        "        return self.value + x\n",
        "\n",
        "add_10 = Adder(10)\n",
        "print(add_10(5))  # Output: 15"
      ],
      "metadata": {
        "colab": {
          "base_uri": "https://localhost:8080/"
        },
        "id": "edbYDmnFEm9v",
        "outputId": "62c8b8e0-32f7-4bc1-a23a-bd80bc309994"
      },
      "execution_count": 7,
      "outputs": [
        {
          "output_type": "stream",
          "name": "stdout",
          "text": [
            "15\n"
          ]
        }
      ]
    },
    {
      "cell_type": "markdown",
      "source": [
        " # Partical Assignment"
      ],
      "metadata": {
        "id": "DaV_qq3XE8mC"
      }
    },
    {
      "cell_type": "code",
      "source": [
        "#1. Parent and Child Class with Method Override\n",
        "\n",
        "\n",
        "class Animal:\n",
        "    def speak(self):\n",
        "        print(\"Animal makes a sound\")\n",
        "\n",
        "class Dog(Animal):\n",
        "    def speak(self):\n",
        "        print(\"Bark!\")\n",
        "\n",
        "d = Dog()\n",
        "d.speak()\n"
      ],
      "metadata": {
        "colab": {
          "base_uri": "https://localhost:8080/"
        },
        "id": "4puYXoEQFRQL",
        "outputId": "8b5e47d6-3785-46fc-c1d6-c19bad059f50"
      },
      "execution_count": 8,
      "outputs": [
        {
          "output_type": "stream",
          "name": "stdout",
          "text": [
            "Bark!\n"
          ]
        }
      ]
    },
    {
      "cell_type": "code",
      "source": [
        "#2. Abstract Class Shape with Circle and Rectangle\n",
        "from abc import ABC, abstractmethod\n",
        "\n",
        "class Shape(ABC):\n",
        "    @abstractmethod\n",
        "    def area(self):\n",
        "        pass\n",
        "\n",
        "class Circle(Shape):\n",
        "    def __init__(self, radius):\n",
        "        self.radius = radius\n",
        "\n",
        "    def area(self):\n",
        "        return 3.14 * self.radius ** 2\n",
        "\n",
        "class Rectangle(Shape):\n",
        "    def __init__(self, length, width):\n",
        "        self.length = length\n",
        "        self.width = width\n",
        "\n",
        "    def area(self):\n",
        "        return self.length * self.width\n",
        "\n",
        "c = Circle(5)\n",
        "r = Rectangle(4, 6)\n",
        "print(c.area())\n",
        "print(r.area())\n",
        "\n"
      ],
      "metadata": {
        "colab": {
          "base_uri": "https://localhost:8080/"
        },
        "id": "rE378jr9FbhE",
        "outputId": "c02479d6-5554-49e9-ee45-457577e3c3fb"
      },
      "execution_count": 9,
      "outputs": [
        {
          "output_type": "stream",
          "name": "stdout",
          "text": [
            "78.5\n",
            "24\n"
          ]
        }
      ]
    },
    {
      "cell_type": "code",
      "source": [
        "#3. Multi-level Inheritance: Vehicle → Car → ElectricCar\n",
        "\n",
        "class Vehicle:\n",
        "    def __init__(self, vehicle_type):\n",
        "        self.vehicle_type = vehicle_type\n",
        "\n",
        "class Car(Vehicle):\n",
        "    def __init__(self, vehicle_type, brand):\n",
        "        super().__init__(vehicle_type)\n",
        "        self.brand = brand\n",
        "\n",
        "class ElectricCar(Car):\n",
        "    def __init__(self, vehicle_type, brand, battery):\n",
        "        super().__init__(vehicle_type, brand)\n",
        "        self.battery = battery\n",
        "\n",
        "e = ElectricCar(\"Electric\", \"Tesla\", \"85 kWh\")\n",
        "print(e.vehicle_type, e.brand, e.battery)\n",
        "\n"
      ],
      "metadata": {
        "colab": {
          "base_uri": "https://localhost:8080/"
        },
        "id": "TwsArvYtFkyK",
        "outputId": "32258bdd-9ce6-436f-f4b7-bf0021ff0ded"
      },
      "execution_count": 10,
      "outputs": [
        {
          "output_type": "stream",
          "name": "stdout",
          "text": [
            "Electric Tesla 85 kWh\n"
          ]
        }
      ]
    },
    {
      "cell_type": "code",
      "source": [
        "#4. Polymorphism with Bird, Sparrow, and Penguin\n",
        "\n",
        "class Bird:\n",
        "    def fly(self):\n",
        "        print(\"Some birds can fly\")\n",
        "\n",
        "class Sparrow(Bird):\n",
        "    def fly(self):\n",
        "        print(\"Sparrow flies high\")\n",
        "\n",
        "class Penguin(Bird):\n",
        "    def fly(self):\n",
        "        print(\"Penguins cannot fly\")\n",
        "\n",
        "b1 = Sparrow()\n",
        "b2 = Penguin()\n",
        "\n",
        "for bird in (b1, b2):\n",
        "    bird.fly()\n"
      ],
      "metadata": {
        "colab": {
          "base_uri": "https://localhost:8080/"
        },
        "id": "9mbXgKWPGAF2",
        "outputId": "f2d5ef7e-dfc0-447e-c539-c247a2b1f8c5"
      },
      "execution_count": 13,
      "outputs": [
        {
          "output_type": "stream",
          "name": "stdout",
          "text": [
            "Sparrow flies high\n",
            "Penguins cannot fly\n"
          ]
        }
      ]
    },
    {
      "cell_type": "code",
      "source": [
        "#5. Encapsulation in BankAccount\n",
        "\n",
        "class BankAccount:\n",
        "    def __init__(self):\n",
        "        self.__balance = 0\n",
        "\n",
        "    def deposit(self, amount):\n",
        "        self.__balance += amount\n",
        "\n",
        "    def withdraw(self, amount):\n",
        "        if amount <= self.__balance:\n",
        "            self.__balance -= amount\n",
        "\n",
        "    def check_balance(self):\n",
        "        return self.__balance\n",
        "\n",
        "acc = BankAccount()\n",
        "acc.deposit(1000)\n",
        "acc.withdraw(500)\n",
        "print(acc.check_balance())\n"
      ],
      "metadata": {
        "colab": {
          "base_uri": "https://localhost:8080/"
        },
        "id": "oEHJSL90GOyu",
        "outputId": "eb8863eb-308b-47ea-fd08-5755b2de9d5f"
      },
      "execution_count": 14,
      "outputs": [
        {
          "output_type": "stream",
          "name": "stdout",
          "text": [
            "500\n"
          ]
        }
      ]
    },
    {
      "cell_type": "code",
      "source": [
        "#6. Runtime Polymorphism with Instrumen\n",
        "class Instrument:\n",
        "    def play(self):\n",
        "        print(\"Playing instrument\")\n",
        "\n",
        "class Guitar(Instrument):\n",
        "    def play(self):\n",
        "        print(\"Strumming guitar\")\n",
        "\n",
        "class Piano(Instrument):\n",
        "    def play(self):\n",
        "        print(\"Playing piano\")\n",
        "\n",
        "for i in (Guitar(), Piano()):\n",
        "    i.play()\n"
      ],
      "metadata": {
        "colab": {
          "base_uri": "https://localhost:8080/"
        },
        "id": "fh51HawwGUef",
        "outputId": "398c04f6-488b-4a3a-c245-29a050f1935d"
      },
      "execution_count": 15,
      "outputs": [
        {
          "output_type": "stream",
          "name": "stdout",
          "text": [
            "Strumming guitar\n",
            "Playing piano\n"
          ]
        }
      ]
    },
    {
      "cell_type": "code",
      "source": [
        "#7. Class Method and Static Method\n",
        "class MathOperations:\n",
        "    @classmethod\n",
        "    def add_numbers(cls, a, b):\n",
        "        return a + b\n",
        "\n",
        "    @staticmethod\n",
        "    def subtract_numbers(a, b):\n",
        "        return a - b\n",
        "\n",
        "print(MathOperations.add_numbers(10, 5))\n",
        "print(MathOperations.subtract_numbers(10, 5))\n"
      ],
      "metadata": {
        "colab": {
          "base_uri": "https://localhost:8080/"
        },
        "id": "bSiC1aC7Gc3E",
        "outputId": "e7d73191-039b-4c96-f240-c4e5d100a889"
      },
      "execution_count": 16,
      "outputs": [
        {
          "output_type": "stream",
          "name": "stdout",
          "text": [
            "15\n",
            "5\n"
          ]
        }
      ]
    },
    {
      "cell_type": "code",
      "source": [
        "#8. Person Count with Class Method\n",
        "class Person:\n",
        "    count = 0\n",
        "\n",
        "    def __init__(self, name):\n",
        "        self.name = name\n",
        "        Person.count += 1\n",
        "\n",
        "    @classmethod\n",
        "    def total_persons(cls):\n",
        "        return cls.count\n",
        "\n",
        "p1 = Person(\"A\")\n",
        "p2 = Person(\"B\")\n",
        "print(Person.total_persons())\n"
      ],
      "metadata": {
        "colab": {
          "base_uri": "https://localhost:8080/"
        },
        "id": "YiBVLmlFGlPk",
        "outputId": "cad3724a-2a21-4fab-f414-09994f508331"
      },
      "execution_count": 17,
      "outputs": [
        {
          "output_type": "stream",
          "name": "stdout",
          "text": [
            "2\n"
          ]
        }
      ]
    },
    {
      "cell_type": "code",
      "source": [
        "#9. Fraction Class with __str__\n",
        "class Fraction:\n",
        "    def __init__(self, num, denom):\n",
        "        self.num = num\n",
        "        self.denom = denom\n",
        "\n",
        "    def __str__(self):\n",
        "        return f\"{self.num}/{self.denom}\"\n",
        "\n",
        "f = Fraction(3, 4)\n",
        "print(f)\n"
      ],
      "metadata": {
        "colab": {
          "base_uri": "https://localhost:8080/"
        },
        "id": "urNX-lowGsUX",
        "outputId": "42edb68d-3933-453a-aa5e-a6303151afa6"
      },
      "execution_count": 18,
      "outputs": [
        {
          "output_type": "stream",
          "name": "stdout",
          "text": [
            "3/4\n"
          ]
        }
      ]
    },
    {
      "cell_type": "code",
      "source": [
        "#10. Operator Overloading with Vector\n",
        "class Vector:\n",
        "    def __init__(self, x, y):\n",
        "        self.x = x\n",
        "        self.y = y\n",
        "\n",
        "    def __add__(self, other):\n",
        "        return Vector(self.x + other.x, self.y + other.y)\n",
        "\n",
        "    def __str__(self):\n",
        "        return f\"({self.x}, {self.y})\"\n",
        "\n",
        "v1 = Vector(1, 2)\n",
        "v2 = Vector(3, 4)\n",
        "print(v1 + v2)\n"
      ],
      "metadata": {
        "colab": {
          "base_uri": "https://localhost:8080/"
        },
        "id": "KHgBwmLXGzMR",
        "outputId": "5c9a79c1-215c-42b7-8364-7a3768b229d9"
      },
      "execution_count": 19,
      "outputs": [
        {
          "output_type": "stream",
          "name": "stdout",
          "text": [
            "(4, 6)\n"
          ]
        }
      ]
    },
    {
      "cell_type": "code",
      "source": [
        "#11. Person Class with Greet\n",
        "class Person:\n",
        "    def __init__(self, name, age):\n",
        "        self.name = name\n",
        "        self.age = age\n",
        "\n",
        "    def greet(self):\n",
        "        print(f\"Hello, my name is {self.name} and I am {self.age} years old.\")\n",
        "\n",
        "p = Person(\"Rahul\", 25)\n",
        "p.greet()\n"
      ],
      "metadata": {
        "colab": {
          "base_uri": "https://localhost:8080/"
        },
        "id": "-4zRv2GVG4gF",
        "outputId": "c9ccd618-dffa-4266-c4a8-5eb62fa00fd1"
      },
      "execution_count": 20,
      "outputs": [
        {
          "output_type": "stream",
          "name": "stdout",
          "text": [
            "Hello, my name is Rahul and I am 25 years old.\n"
          ]
        }
      ]
    },
    {
      "cell_type": "code",
      "source": [
        "#12. Student Class with Average Grade\n",
        "class Student:\n",
        "    def __init__(self, name, grades):\n",
        "        self.name = name\n",
        "        self.grades = grades\n",
        "\n",
        "    def average_grade(self):\n",
        "        return sum(self.grades) / len(self.grades)\n",
        "\n",
        "s = Student(\"John\", [80, 90, 100])\n",
        "print(s.average_grade())\n"
      ],
      "metadata": {
        "colab": {
          "base_uri": "https://localhost:8080/"
        },
        "id": "fv50dFgtG9gM",
        "outputId": "ddb25772-bcec-44b9-f5d1-5d957402ed9f"
      },
      "execution_count": 21,
      "outputs": [
        {
          "output_type": "stream",
          "name": "stdout",
          "text": [
            "90.0\n"
          ]
        }
      ]
    },
    {
      "cell_type": "code",
      "source": [
        "#13. Rectangle Class with Area\n",
        "class Rectangle:\n",
        "    def set_dimensions(self, length, width):\n",
        "        self.length = length\n",
        "        self.width = width\n",
        "\n",
        "    def area(self):\n",
        "        return self.length * self.width\n",
        "\n",
        "r = Rectangle()\n",
        "r.set_dimensions(5, 10)\n",
        "print(r.area())\n"
      ],
      "metadata": {
        "colab": {
          "base_uri": "https://localhost:8080/"
        },
        "id": "RCbWgqEjHDbH",
        "outputId": "b143874b-be3f-4f04-e243-c3f6efb6d0b9"
      },
      "execution_count": 22,
      "outputs": [
        {
          "output_type": "stream",
          "name": "stdout",
          "text": [
            "50\n"
          ]
        }
      ]
    },
    {
      "cell_type": "code",
      "source": [
        "#14. Employee and Manager Salary Calculation\n",
        "class Employee:\n",
        "    def calculate_salary(self, hours, rate):\n",
        "        return hours * rate\n",
        "\n",
        "class Manager(Employee):\n",
        "    def calculate_salary(self, hours, rate, bonus):\n",
        "        base = super().calculate_salary(hours, rate)\n",
        "        return base + bonus\n",
        "\n",
        "m = Manager()\n",
        "print(m.calculate_salary(40, 50, 500))\n"
      ],
      "metadata": {
        "colab": {
          "base_uri": "https://localhost:8080/"
        },
        "id": "XpElJnVCHODk",
        "outputId": "c917b32e-5d6d-48e0-991d-07e60381f51e"
      },
      "execution_count": 23,
      "outputs": [
        {
          "output_type": "stream",
          "name": "stdout",
          "text": [
            "2500\n"
          ]
        }
      ]
    }
  ]
}